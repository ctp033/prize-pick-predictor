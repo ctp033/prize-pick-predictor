{
 "cells": [
  {
   "cell_type": "code",
   "execution_count": 5,
   "id": "fd1a3f4d",
   "metadata": {},
   "outputs": [],
   "source": [
    "# Play with PyBaseball - player game data each row is a game\n",
    "from pybaseball import statcast_batter\n",
    "from pybaseball import playerid_lookup\n",
    "import pandas as pd\n",
    "from datetime import datetime, timedelta\n"
   ]
  },
  {
   "cell_type": "code",
   "execution_count": null,
   "id": "3aff6951",
   "metadata": {},
   "outputs": [
    {
     "name": "stdout",
     "output_type": "stream",
     "text": [
      "This is a large query, it may take a moment to complete\n"
     ]
    },
    {
     "name": "stderr",
     "output_type": "stream",
     "text": [
      "100%|██████████| 1/1 [00:00<00:00, 23.81it/s]"
     ]
    },
    {
     "name": "stdout",
     "output_type": "stream",
     "text": [
      "0\n",
      "No game data found for Romano, Jorda on 2023-06-01 \n"
     ]
    },
    {
     "name": "stderr",
     "output_type": "stream",
     "text": [
      "\n"
     ]
    }
   ],
   "source": [
    "# DATA COLLECTION FOR SINGLE GAME\n",
    "import pybaseball\n",
    "from datetime import datetime, timedelta\n",
    "\n",
    "def get_player_data(player_name, date, dataframe):\n",
    "    '''\n",
    "    Description: Based on the inputted information, add data to the given dataframe, \n",
    "                 or create one if necessary. The function will RETURN a NEW dataframe\n",
    "    Parameters:\n",
    "                player_name: name of the player you want to get data on\n",
    "                             format should be: last_name, first_name\n",
    "                date: date you want to search for game data on. \n",
    "                            format should be a string 'YYYY-MM-DD'\n",
    "                dataframe: Pandas dataframe to either begin, or add rows too once data has been cleaned \n",
    "\n",
    "    Returns: result_dataframe: dataframe with new information, either created, or appended to paramater dataframe\n",
    "    '''\n",
    "\n",
    "    # Enable cache for previous requests\n",
    "    pybaseball.cache.enable()\n",
    "    # Set date variable\n",
    "    # Get data within a date range\n",
    "    data = pybaseball.statcast(start_dt=date, end_dt=date)\n",
    "\n",
    "    # for column in data.columns:\n",
    "    #     print(column)\n",
    "    # Possible relevant columns: pitcher, home_team (for stadium), home_win_exp, starting pitcher, what starting pitcher throws R/L\n",
    "\n",
    "    # Filter relevant columns for batting performance\n",
    "    batting_cols = [\n",
    "        'game_date', 'batter','player_name', 'game_pk', 'events', 'at_bat_number',\n",
    "        'pitch_type', 'balls', 'strikes', 'pitcher', 'p_throws', 'at_bat_number', \n",
    "        'pitch_number', 'home_team', 'batter_days_since_prev_game'\n",
    "    ]\n",
    "\n",
    "    # Get batting subset of data\n",
    "    batting_data = data[batting_cols].copy()\n",
    "\n",
    "    #player_name = \"Romano, Jordan\" # FORMAT IS <last, first> as a string\n",
    "\n",
    "    # Dataset of one player\n",
    "    player_df = batting_data[batting_data['player_name'] == player_name].copy() \n",
    "    # print(output_df)\n",
    "\n",
    "    print(len(player_df))\n",
    "\n",
    "    if len(player_df) < 1:\n",
    "        print(f\"No game data found for {player_name} on {date} \")\n",
    "        return dataframe\n",
    "    else: \n",
    "\n",
    "        # Reset index to avoid duplicate label issues\n",
    "        player_df = player_df.reset_index(drop=True)\n",
    "\n",
    "        # Remove duplicate columns if they exist (Fixed issues)\n",
    "        player_df = player_df.loc[:, ~player_df.columns.duplicated()]\n",
    "\n",
    "        # Get minimum at bat number\n",
    "        min_at_bat = player_df['at_bat_number'].min()\n",
    "        min_at_bat = int(min_at_bat.iloc[0]) if isinstance(min_at_bat, pd.Series) else int(min_at_bat)\n",
    "        print(f\"Min at bat number: {min_at_bat}\")\n",
    "\n",
    "        # GET ROW with minimum at_bat_number AND pitch_number == 1\n",
    "        min_row = player_df[(player_df['at_bat_number'] == min_at_bat) & \n",
    "                            (player_df['pitch_number'] == 1)]\n",
    "\n",
    "        # Establish variables for game info\n",
    "        starting_pitcher_id = None\n",
    "        starting_pitcher_throws = None\n",
    "        home_team = None\n",
    "        batter_days_since_last_game = None\n",
    "\n",
    "        # Get game info on starting pitcher and home team\n",
    "        if not min_row.empty:\n",
    "            min_row = min_row.iloc[0]  # Get the first row if multiple matches\n",
    "            # print(\"Row with min at_bat_number and pitch_number == 1:\")\n",
    "            # print(min_row)\n",
    "            home_team = min_row['home_team']\n",
    "            starting_pitcher_id = min_row['pitcher']\n",
    "            starting_pitcher_throws = min_row['p_throws']\n",
    "            batter_days_since_last_game = min_row['batter_days_since_prev_game']\n",
    "        else:\n",
    "            print(\"No row found with min at_bat_number and pitch_number == 1\")\n",
    "\n",
    "        # Get is_hit column, 1 if player made a hit at bat\n",
    "        player_df['is_hit'] = player_df['events'].isin(['single', 'double', 'triple', 'home_run']).astype(int)\n",
    "        # Make is_homerun column\n",
    "        player_df['is_home_run'] = player_df['events'].isin(['home_run']).astype(int)\n",
    "        # Group by for each indivdual at bat\n",
    "        per_game_at_bat_stats = player_df.groupby(['game_date', 'batter', 'player_name', 'game_pk']).agg(\n",
    "            {\n",
    "                'is_hit': 'sum', # Total hits\n",
    "                'is_home_run': 'sum' # Total number of home runs\n",
    "            }\n",
    "        ).reset_index()\n",
    "        # Group by for each GAME\n",
    "        single_game_outcome = per_game_at_bat_stats.groupby(['game_date', 'player_name', 'game_pk']).agg(\n",
    "            hits=('is_hit', 'sum'),\n",
    "            at_bats=('is_hit', 'count'),\n",
    "            home_runs=('is_home_run', 'sum')\n",
    "        ).reset_index()\n",
    "\n",
    "        # Add game info to player's outcome\n",
    "        single_game_outcome['home_team'] = home_team\n",
    "        single_game_outcome['starting_pitcher_id'] = starting_pitcher_id\n",
    "        single_game_outcome['starting_pitcher_throws'] = starting_pitcher_throws \n",
    "        single_game_outcome['batter_days_since_prev_game'] = batter_days_since_last_game\n",
    "\n",
    "        print(single_game_outcome)\n",
    "\n",
    "        if dataframe is None or dataframe.empty:\n",
    "            # If dataframe is empty or None, assign the new data\n",
    "            result_dataframe = single_game_outcome.copy()\n",
    "            print(f\"Created new dataframe with {len(result_dataframe)} rows\")\n",
    "        else:\n",
    "            # If dataframe has data, append the new data\n",
    "            result_dataframe = pd.concat([dataframe, single_game_outcome], ignore_index=True)\n",
    "            print(f\"Appended data. Dataframe now has {len(result_dataframe)} rows\")\n",
    "        \n",
    "        return result_dataframe\n",
    "\n",
    "        # Feature engineering, home team, starting pitcher throws, starting pitcher\n",
    "\n"
   ]
  },
  {
   "cell_type": "markdown",
   "id": "e24821e4",
   "metadata": {},
   "source": [
    "### Current Data Setup For a Batter's Single Game Outcome\n",
    "\n",
    "game_date | player_name | game_pk | hits | at_bats | home_runs | home_team (for stadium) | starting pitcher_id | starting_pitcher_throws | batter_days_since_prev_game\n"
   ]
  },
  {
   "cell_type": "code",
   "execution_count": null,
   "id": "5a51407e",
   "metadata": {},
   "outputs": [],
   "source": []
  }
 ],
 "metadata": {
  "kernelspec": {
   "display_name": "Python 3",
   "language": "python",
   "name": "python3"
  },
  "language_info": {
   "codemirror_mode": {
    "name": "ipython",
    "version": 3
   },
   "file_extension": ".py",
   "mimetype": "text/x-python",
   "name": "python",
   "nbconvert_exporter": "python",
   "pygments_lexer": "ipython3",
   "version": "3.12.0"
  }
 },
 "nbformat": 4,
 "nbformat_minor": 5
}
